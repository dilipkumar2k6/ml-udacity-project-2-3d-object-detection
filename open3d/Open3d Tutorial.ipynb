{
 "cells": [
  {
   "cell_type": "code",
   "execution_count": 2,
   "id": "f1c22d04",
   "metadata": {},
   "outputs": [
    {
     "name": "stdout",
     "output_type": "stream",
     "text": [
      "Collecting open3d-python\n",
      "  Downloading open3d_python-0.7.0.0-cp37-cp37m-manylinux1_x86_64.whl (3.7 MB)\n",
      "\u001b[K     |████████████████████████████████| 3.7 MB 5.0 MB/s eta 0:00:01\n",
      "\u001b[?25hRequirement already satisfied: ipywidgets in /data/virtual_envs/sdc-c2/lib/python3.7/site-packages (from open3d-python) (7.6.3)\n",
      "Requirement already satisfied: widgetsnbextension in /data/virtual_envs/sdc-c2/lib/python3.7/site-packages (from open3d-python) (3.5.1)\n",
      "Requirement already satisfied: numpy in /data/virtual_envs/sdc-c2/lib/python3.7/site-packages (from open3d-python) (1.20.2)\n",
      "Requirement already satisfied: notebook in /data/virtual_envs/sdc-c2/lib/python3.7/site-packages (from open3d-python) (6.3.0)\n",
      "Requirement already satisfied: traitlets>=4.3.1 in /data/virtual_envs/sdc-c2/lib/python3.7/site-packages (from ipywidgets->open3d-python) (5.0.5)\n",
      "Requirement already satisfied: jupyterlab-widgets>=1.0.0 in /data/virtual_envs/sdc-c2/lib/python3.7/site-packages (from ipywidgets->open3d-python) (1.0.0)\n",
      "Requirement already satisfied: nbformat>=4.2.0 in /data/virtual_envs/sdc-c2/lib/python3.7/site-packages (from ipywidgets->open3d-python) (5.1.3)\n",
      "Requirement already satisfied: ipython>=4.0.0 in /data/virtual_envs/sdc-c2/lib/python3.7/site-packages (from ipywidgets->open3d-python) (7.22.0)\n",
      "Requirement already satisfied: ipykernel>=4.5.1 in /data/virtual_envs/sdc-c2/lib/python3.7/site-packages (from ipywidgets->open3d-python) (5.5.3)\n",
      "Requirement already satisfied: jupyter-client in /data/virtual_envs/sdc-c2/lib/python3.7/site-packages (from ipykernel>=4.5.1->ipywidgets->open3d-python) (6.1.12)\n",
      "Requirement already satisfied: tornado>=4.2 in /data/virtual_envs/sdc-c2/lib/python3.7/site-packages (from ipykernel>=4.5.1->ipywidgets->open3d-python) (6.1)\n",
      "Requirement already satisfied: prompt-toolkit!=3.0.0,!=3.0.1,<3.1.0,>=2.0.0 in /data/virtual_envs/sdc-c2/lib/python3.7/site-packages (from ipython>=4.0.0->ipywidgets->open3d-python) (3.0.18)\n",
      "Requirement already satisfied: pygments in /data/virtual_envs/sdc-c2/lib/python3.7/site-packages (from ipython>=4.0.0->ipywidgets->open3d-python) (2.8.1)\n",
      "Requirement already satisfied: pickleshare in /data/virtual_envs/sdc-c2/lib/python3.7/site-packages (from ipython>=4.0.0->ipywidgets->open3d-python) (0.7.5)\n",
      "Requirement already satisfied: backcall in /data/virtual_envs/sdc-c2/lib/python3.7/site-packages (from ipython>=4.0.0->ipywidgets->open3d-python) (0.2.0)\n",
      "Requirement already satisfied: setuptools>=18.5 in /data/virtual_envs/sdc-c2/lib/python3.7/site-packages (from ipython>=4.0.0->ipywidgets->open3d-python) (41.2.0)\n",
      "Requirement already satisfied: jedi>=0.16 in /data/virtual_envs/sdc-c2/lib/python3.7/site-packages (from ipython>=4.0.0->ipywidgets->open3d-python) (0.18.0)\n",
      "Requirement already satisfied: decorator in /data/virtual_envs/sdc-c2/lib/python3.7/site-packages (from ipython>=4.0.0->ipywidgets->open3d-python) (5.0.2)\n",
      "Requirement already satisfied: pexpect>4.3 in /data/virtual_envs/sdc-c2/lib/python3.7/site-packages (from ipython>=4.0.0->ipywidgets->open3d-python) (4.8.0)\n",
      "Requirement already satisfied: parso<0.9.0,>=0.8.0 in /data/virtual_envs/sdc-c2/lib/python3.7/site-packages (from jedi>=0.16->ipython>=4.0.0->ipywidgets->open3d-python) (0.8.2)\n",
      "Requirement already satisfied: jupyter-core in /data/virtual_envs/sdc-c2/lib/python3.7/site-packages (from nbformat>=4.2.0->ipywidgets->open3d-python) (4.7.1)\n",
      "Requirement already satisfied: jsonschema!=2.5.0,>=2.4 in /data/virtual_envs/sdc-c2/lib/python3.7/site-packages (from nbformat>=4.2.0->ipywidgets->open3d-python) (3.2.0)\n",
      "Requirement already satisfied: ipython-genutils in /data/virtual_envs/sdc-c2/lib/python3.7/site-packages (from nbformat>=4.2.0->ipywidgets->open3d-python) (0.2.0)\n",
      "Requirement already satisfied: pyrsistent>=0.14.0 in /data/virtual_envs/sdc-c2/lib/python3.7/site-packages (from jsonschema!=2.5.0,>=2.4->nbformat>=4.2.0->ipywidgets->open3d-python) (0.17.3)\n",
      "Requirement already satisfied: six>=1.11.0 in /data/virtual_envs/sdc-c2/lib/python3.7/site-packages (from jsonschema!=2.5.0,>=2.4->nbformat>=4.2.0->ipywidgets->open3d-python) (1.15.0)\n",
      "Requirement already satisfied: attrs>=17.4.0 in /data/virtual_envs/sdc-c2/lib/python3.7/site-packages (from jsonschema!=2.5.0,>=2.4->nbformat>=4.2.0->ipywidgets->open3d-python) (20.3.0)\n",
      "Requirement already satisfied: importlib-metadata in /data/virtual_envs/sdc-c2/lib/python3.7/site-packages (from jsonschema!=2.5.0,>=2.4->nbformat>=4.2.0->ipywidgets->open3d-python) (3.10.0)\n",
      "Requirement already satisfied: ptyprocess>=0.5 in /data/virtual_envs/sdc-c2/lib/python3.7/site-packages (from pexpect>4.3->ipython>=4.0.0->ipywidgets->open3d-python) (0.7.0)\n",
      "Requirement already satisfied: wcwidth in /data/virtual_envs/sdc-c2/lib/python3.7/site-packages (from prompt-toolkit!=3.0.0,!=3.0.1,<3.1.0,>=2.0.0->ipython>=4.0.0->ipywidgets->open3d-python) (0.2.5)\n",
      "Requirement already satisfied: Send2Trash>=1.5.0 in /data/virtual_envs/sdc-c2/lib/python3.7/site-packages (from notebook->open3d-python) (1.5.0)\n",
      "Requirement already satisfied: prometheus-client in /data/virtual_envs/sdc-c2/lib/python3.7/site-packages (from notebook->open3d-python) (0.10.0)\n",
      "Requirement already satisfied: jinja2 in /data/virtual_envs/sdc-c2/lib/python3.7/site-packages (from notebook->open3d-python) (2.11.3)\n",
      "Requirement already satisfied: nbconvert in /data/virtual_envs/sdc-c2/lib/python3.7/site-packages (from notebook->open3d-python) (6.0.7)\n",
      "Requirement already satisfied: argon2-cffi in /data/virtual_envs/sdc-c2/lib/python3.7/site-packages (from notebook->open3d-python) (20.1.0)\n",
      "Requirement already satisfied: terminado>=0.8.3 in /data/virtual_envs/sdc-c2/lib/python3.7/site-packages (from notebook->open3d-python) (0.9.4)\n",
      "Requirement already satisfied: pyzmq>=17 in /data/virtual_envs/sdc-c2/lib/python3.7/site-packages (from notebook->open3d-python) (22.0.3)\n",
      "Requirement already satisfied: python-dateutil>=2.1 in /data/virtual_envs/sdc-c2/lib/python3.7/site-packages (from jupyter-client->ipykernel>=4.5.1->ipywidgets->open3d-python) (2.8.1)\n",
      "Requirement already satisfied: cffi>=1.0.0 in /data/virtual_envs/sdc-c2/lib/python3.7/site-packages (from argon2-cffi->notebook->open3d-python) (1.14.5)\n",
      "Requirement already satisfied: pycparser in /data/virtual_envs/sdc-c2/lib/python3.7/site-packages (from cffi>=1.0.0->argon2-cffi->notebook->open3d-python) (2.20)\n",
      "Requirement already satisfied: zipp>=0.5 in /data/virtual_envs/sdc-c2/lib/python3.7/site-packages (from importlib-metadata->jsonschema!=2.5.0,>=2.4->nbformat>=4.2.0->ipywidgets->open3d-python) (3.4.1)\n",
      "Requirement already satisfied: typing-extensions>=3.6.4 in /data/virtual_envs/sdc-c2/lib/python3.7/site-packages (from importlib-metadata->jsonschema!=2.5.0,>=2.4->nbformat>=4.2.0->ipywidgets->open3d-python) (3.7.4.3)\n",
      "Requirement already satisfied: MarkupSafe>=0.23 in /data/virtual_envs/sdc-c2/lib/python3.7/site-packages (from jinja2->notebook->open3d-python) (1.1.1)\n",
      "Requirement already satisfied: jupyterlab-pygments in /data/virtual_envs/sdc-c2/lib/python3.7/site-packages (from nbconvert->notebook->open3d-python) (0.1.2)\n",
      "Requirement already satisfied: bleach in /data/virtual_envs/sdc-c2/lib/python3.7/site-packages (from nbconvert->notebook->open3d-python) (3.3.0)\n",
      "Requirement already satisfied: defusedxml in /data/virtual_envs/sdc-c2/lib/python3.7/site-packages (from nbconvert->notebook->open3d-python) (0.7.1)\n",
      "Requirement already satisfied: mistune<2,>=0.8.1 in /data/virtual_envs/sdc-c2/lib/python3.7/site-packages (from nbconvert->notebook->open3d-python) (0.8.4)\n",
      "Requirement already satisfied: nbclient<0.6.0,>=0.5.0 in /data/virtual_envs/sdc-c2/lib/python3.7/site-packages (from nbconvert->notebook->open3d-python) (0.5.3)\n",
      "Requirement already satisfied: pandocfilters>=1.4.1 in /data/virtual_envs/sdc-c2/lib/python3.7/site-packages (from nbconvert->notebook->open3d-python) (1.4.3)\n",
      "Requirement already satisfied: entrypoints>=0.2.2 in /data/virtual_envs/sdc-c2/lib/python3.7/site-packages (from nbconvert->notebook->open3d-python) (0.3)\n",
      "Requirement already satisfied: testpath in /data/virtual_envs/sdc-c2/lib/python3.7/site-packages (from nbconvert->notebook->open3d-python) (0.4.4)\n",
      "Requirement already satisfied: nest-asyncio in /data/virtual_envs/sdc-c2/lib/python3.7/site-packages (from nbclient<0.6.0,>=0.5.0->nbconvert->notebook->open3d-python) (1.5.1)\n",
      "Requirement already satisfied: async-generator in /data/virtual_envs/sdc-c2/lib/python3.7/site-packages (from nbclient<0.6.0,>=0.5.0->nbconvert->notebook->open3d-python) (1.10)\n",
      "Requirement already satisfied: webencodings in /data/virtual_envs/sdc-c2/lib/python3.7/site-packages (from bleach->nbconvert->notebook->open3d-python) (0.5.1)\n",
      "Requirement already satisfied: packaging in /data/virtual_envs/sdc-c2/lib/python3.7/site-packages (from bleach->nbconvert->notebook->open3d-python) (20.9)\n"
     ]
    },
    {
     "name": "stdout",
     "output_type": "stream",
     "text": [
      "Requirement already satisfied: pyparsing>=2.0.2 in /data/virtual_envs/sdc-c2/lib/python3.7/site-packages (from packaging->bleach->nbconvert->notebook->open3d-python) (2.4.7)\n",
      "Installing collected packages: open3d-python\n",
      "Successfully installed open3d-python-0.7.0.0\n",
      "\u001b[33mWARNING: You are using pip version 21.0.1; however, version 22.0.4 is available.\n",
      "You should consider upgrading via the '/root/miniconda3/bin/python -m pip install --upgrade pip' command.\u001b[0m\n"
     ]
    }
   ],
   "source": [
    "# Install open3d\n",
    "!pip install open3d-python"
   ]
  },
  {
   "cell_type": "code",
   "execution_count": 3,
   "id": "10479a04",
   "metadata": {},
   "outputs": [],
   "source": [
    "import numpy as np\n",
    "import open3d as o3d\n",
    "from open3d import JVisualizer\n"
   ]
  },
  {
   "cell_type": "code",
   "execution_count": 14,
   "id": "d6eba054",
   "metadata": {},
   "outputs": [
    {
     "data": {
      "text/plain": [
       "((1000, 3), (1000, 3))"
      ]
     },
     "execution_count": 14,
     "metadata": {},
     "output_type": "execute_result"
    }
   ],
   "source": [
    "points = (np.random.rand(1000,3) - 0.5)/4\n",
    "colors = np.random.rand(1000, 3)\n",
    "points.shape, colors.shape"
   ]
  },
  {
   "cell_type": "code",
   "execution_count": 15,
   "id": "a11e98f1",
   "metadata": {},
   "outputs": [],
   "source": [
    "pcd = o3d.geometry.PointCloud()\n",
    "pcd.points = o3d.utility.Vector3dVector(points)\n",
    "pcd.colors = o3d.utility.Vector3dVector(colors)"
   ]
  },
  {
   "cell_type": "code",
   "execution_count": 16,
   "id": "1c7dcbe2",
   "metadata": {},
   "outputs": [
    {
     "data": {
      "application/vnd.jupyter.widget-view+json": {
       "model_id": "e4f48375636d4ddc81223018bb0a1846",
       "version_major": 2,
       "version_minor": 0
      },
      "text/plain": [
       "JVisualizer with 1 geometries"
      ]
     },
     "metadata": {},
     "output_type": "display_data"
    }
   ],
   "source": [
    "visualizer = JVisualizer()\n",
    "visualizer.add_geometry(pcd)\n",
    "visualizer.show()"
   ]
  },
  {
   "cell_type": "code",
   "execution_count": null,
   "id": "105e4f89",
   "metadata": {},
   "outputs": [],
   "source": []
  }
 ],
 "metadata": {
  "kernelspec": {
   "display_name": "Python 3",
   "language": "python",
   "name": "python3"
  },
  "language_info": {
   "codemirror_mode": {
    "name": "ipython",
    "version": 3
   },
   "file_extension": ".py",
   "mimetype": "text/x-python",
   "name": "python",
   "nbconvert_exporter": "python",
   "pygments_lexer": "ipython3",
   "version": "3.7.6"
  }
 },
 "nbformat": 4,
 "nbformat_minor": 5
}
